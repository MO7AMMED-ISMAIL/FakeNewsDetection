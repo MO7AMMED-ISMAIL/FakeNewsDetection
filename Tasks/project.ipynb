{
 "cells": [
  {
   "cell_type": "code",
   "execution_count": 4,
   "id": "4667ebaa",
   "metadata": {},
   "outputs": [],
   "source": [
    "import numpy as np\n",
    "import pandas as pd"
   ]
  },
  {
   "cell_type": "code",
   "execution_count": 5,
   "id": "26fe0b97",
   "metadata": {},
   "outputs": [],
   "source": [
    "tn = pd.read_csv(\"True.csv\",nrows=4000)\n",
    "fn = pd.read_csv(\"Fake.csv\",nrows=4000)\n",
    "#tn.head()"
   ]
  },
  {
   "cell_type": "code",
   "execution_count": 6,
   "id": "1e00b221",
   "metadata": {},
   "outputs": [],
   "source": [
    "tn['class']=1\n",
    "fn['class']=0"
   ]
  },
  {
   "cell_type": "code",
   "execution_count": 7,
   "id": "766e156f",
   "metadata": {},
   "outputs": [],
   "source": [
    "df=pd.concat([tn.head(4000),fn.head(4000)],ignore_index=True)"
   ]
  },
  {
   "cell_type": "code",
   "execution_count": 70,
   "id": "64958527",
   "metadata": {},
   "outputs": [],
   "source": [
    "#df"
   ]
  },
  {
   "cell_type": "code",
   "execution_count": 10,
   "id": "b79d7fc2",
   "metadata": {},
   "outputs": [],
   "source": [
    "df = df.sample(frac=1).reset_index(drop=True)\n",
    "#df"
   ]
  },
  {
   "cell_type": "code",
   "execution_count": 11,
   "id": "3d172ce2",
   "metadata": {},
   "outputs": [],
   "source": [
    "df['News']=df['text']"
   ]
  },
  {
   "cell_type": "code",
   "execution_count": 73,
   "id": "1a331743",
   "metadata": {},
   "outputs": [],
   "source": [
    "#df"
   ]
  },
  {
   "cell_type": "code",
   "execution_count": 74,
   "id": "f44e7071",
   "metadata": {},
   "outputs": [],
   "source": [
    "#df['News'][1]"
   ]
  },
  {
   "cell_type": "code",
   "execution_count": 12,
   "id": "71e7e899",
   "metadata": {},
   "outputs": [],
   "source": [
    "import nltk\n",
    "#nltk.download('wordnet')\n",
    "from nltk.corpus import stopwords\n",
    "from nltk.stem import WordNetLemmatizer\n",
    "import re"
   ]
  },
  {
   "cell_type": "code",
   "execution_count": 13,
   "id": "b7980aff",
   "metadata": {},
   "outputs": [],
   "source": [
    "TL = WordNetLemmatizer()\n",
    "corpus = []\n",
    "for i in range(0,8000):\n",
    "    line = re.sub('[^a-zA-Z]',' ',df['News'][i]) #[char for char in text if char not in string.punctuation] \n",
    "    line = line.lower()\n",
    "    line = line.split()\n",
    "    line = [TL.lemmatize(word) for word in line if not word in set(stopwords.words('english'))]\n",
    "    line = ' '.join(line)\n",
    "    corpus.append(line)"
   ]
  },
  {
   "cell_type": "code",
   "execution_count": 56,
   "id": "7d896cea",
   "metadata": {},
   "outputs": [],
   "source": [
    "#corpus"
   ]
  },
  {
   "cell_type": "code",
   "execution_count": 14,
   "id": "bb1c78d8",
   "metadata": {},
   "outputs": [],
   "source": [
    "from sklearn.feature_extraction.text import CountVectorizer\n",
    "from sklearn.feature_extraction.text import TfidfVectorizer"
   ]
  },
  {
   "cell_type": "code",
   "execution_count": 17,
   "id": "00e0c594",
   "metadata": {
    "scrolled": true
   },
   "outputs": [],
   "source": [
    "cv = CountVectorizer(binary=True)\n",
    "x=cv.fit(corpus)\n",
    "y = df['class'].values\n",
    "#print([w for w in sorted(cv.vocabulary_.keys())])\n",
    "#pd.DataFrame(cv.transform(corpus).toarray(),columns=cv.vocabulary_.keys())"
   ]
  },
  {
   "cell_type": "code",
   "execution_count": null,
   "id": "897f0907",
   "metadata": {},
   "outputs": [],
   "source": [
    "cv2 = CountVectorizer()\n",
    "x2=cv2.fit(corpus)\n",
    "pd.DataFrame(cv2.transform(corpus).toarray(),columns=sorted(cv2.vocabulary_.keys()))"
   ]
  },
  {
   "cell_type": "code",
   "execution_count": 78,
   "id": "287c2a26",
   "metadata": {},
   "outputs": [],
   "source": []
  },
  {
   "cell_type": "code",
   "execution_count": null,
   "id": "ca44e0d7",
   "metadata": {},
   "outputs": [],
   "source": []
  },
  {
   "cell_type": "code",
   "execution_count": null,
   "id": "1f511ff2",
   "metadata": {},
   "outputs": [],
   "source": []
  },
  {
   "cell_type": "code",
   "execution_count": null,
   "id": "ab046ff8",
   "metadata": {},
   "outputs": [],
   "source": []
  },
  {
   "cell_type": "code",
   "execution_count": null,
   "id": "b6d44ca0",
   "metadata": {},
   "outputs": [],
   "source": []
  },
  {
   "cell_type": "code",
   "execution_count": null,
   "id": "cb22a1eb",
   "metadata": {},
   "outputs": [],
   "source": []
  },
  {
   "cell_type": "code",
   "execution_count": null,
   "id": "1e148aa2",
   "metadata": {},
   "outputs": [],
   "source": []
  },
  {
   "cell_type": "code",
   "execution_count": null,
   "id": "2b2b231e",
   "metadata": {},
   "outputs": [],
   "source": []
  },
  {
   "cell_type": "code",
   "execution_count": null,
   "id": "5544a06f",
   "metadata": {},
   "outputs": [],
   "source": []
  }
 ],
 "metadata": {
  "kernelspec": {
   "display_name": "Python 3 (ipykernel)",
   "language": "python",
   "name": "python3"
  },
  "language_info": {
   "codemirror_mode": {
    "name": "ipython",
    "version": 3
   },
   "file_extension": ".py",
   "mimetype": "text/x-python",
   "name": "python",
   "nbconvert_exporter": "python",
   "pygments_lexer": "ipython3",
   "version": "3.9.13"
  }
 },
 "nbformat": 4,
 "nbformat_minor": 5
}
