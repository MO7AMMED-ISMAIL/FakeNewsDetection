{
 "cells": [
  {
   "cell_type": "code",
   "execution_count": null,
   "metadata": {},
   "outputs": [],
   "source": [
    "import numpy as np\n",
    "import pandas as pd"
   ]
  },
  {
   "cell_type": "code",
   "execution_count": null,
   "metadata": {},
   "outputs": [],
   "source": [
    "tn = pd.read_csv(\"True.csv\",nrows=2000)\n",
    "fn = pd.read_csv(\"Fake.csv\",nrows=2000)\n",
    "tn['class']=1\n",
    "fn['class']=0\n",
    "df=pd.concat([tn.head(2000),fn.head(2000)],ignore_index=True)\n",
    "df = df.sample(frac=1).reset_index(drop=True)\n",
    "df['News']=df['text']\n",
    "#df"
   ]
  },
  {
   "cell_type": "code",
   "execution_count": null,
   "metadata": {},
   "outputs": [],
   "source": [
    "import nltk\n",
    "#nltk.download('wordnet')\n",
    "from nltk.corpus import stopwords\n",
    "from nltk.stem import WordNetLemmatizer\n",
    "import re"
   ]
  },
  {
   "cell_type": "code",
   "execution_count": null,
   "metadata": {},
   "outputs": [],
   "source": [
    "TL = WordNetLemmatizer()\n",
    "corpus = []\n",
    "for i in range(0,4000):\n",
    "    line = re.sub('[^a-zA-Z]',' ',df['News'][i]) #[char for char in text if char not in string.punctuation] \n",
    "    line = line.lower()\n",
    "    line = line.split()\n",
    "    line = [TL.lemmatize(word) for word in line if not word in set(stopwords.words('english'))]\n",
    "    line = ' '.join(line)\n",
    "    corpus.append(line)"
   ]
  },
  {
   "cell_type": "code",
   "execution_count": null,
   "metadata": {},
   "outputs": [],
   "source": [
    "from sklearn.feature_extraction.text import CountVectorizer\n",
    "from sklearn.feature_extraction.text import TfidfVectorizer"
   ]
  },
  {
   "cell_type": "code",
   "execution_count": null,
   "metadata": {},
   "outputs": [],
   "source": [
    "cv = CountVectorizer(binary=True)\n",
    "x=cv.fit(corpus)\n",
    "y = df['class'].values\n",
    "#print([w for w in sorted(cv.vocabulary_.keys())])\n",
    "feature = pd.DataFrame(cv.transform(corpus).toarray(),columns=cv.vocabulary_.keys())"
   ]
  },
  {
   "cell_type": "code",
   "execution_count": null,
   "metadata": {},
   "outputs": [],
   "source": []
  },
  {
   "cell_type": "code",
   "execution_count": null,
   "metadata": {},
   "outputs": [],
   "source": []
  }
 ],
 "metadata": {
  "kernelspec": {
   "display_name": "Python 3.11.0 64-bit",
   "language": "python",
   "name": "python3"
  },
  "language_info": {
   "name": "python",
   "version": "3.11.0"
  },
  "orig_nbformat": 4,
  "vscode": {
   "interpreter": {
    "hash": "8333efcbcdc402bf37c2a0a8c5f30b0913dc1d87e0b49524f34886ae3691f9da"
   }
  }
 },
 "nbformat": 4,
 "nbformat_minor": 2
}
