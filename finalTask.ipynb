{
 "cells": [
  {
   "cell_type": "code",
   "execution_count": 1,
   "id": "e2fff644",
   "metadata": {},
   "outputs": [],
   "source": [
    "import numpy as np\n",
    "import pandas as pd"
   ]
  },
  {
   "cell_type": "code",
   "execution_count": 2,
   "id": "4a51afec",
   "metadata": {},
   "outputs": [],
   "source": [
    "tn = pd.read_csv(\"True.csv\",nrows=2000)\n",
    "fn = pd.read_csv(\"Fake.csv\",nrows=2000)\n",
    "tn['class']=1\n",
    "fn['class']=0\n",
    "df=pd.concat([tn.head(2000),fn.head(2000)],ignore_index=True)\n",
    "df = df.sample(frac=1).reset_index(drop=True)\n",
    "df['News']=df['text']\n",
    "#df"
   ]
  },
  {
   "cell_type": "code",
   "execution_count": 3,
   "id": "13756dfc",
   "metadata": {},
   "outputs": [],
   "source": [
    "import nltk\n",
    "#nltk.download('wordnet')\n",
    "from nltk.corpus import stopwords\n",
    "from nltk.stem import WordNetLemmatizer\n",
    "import re"
   ]
  },
  {
   "cell_type": "code",
   "execution_count": 5,
   "id": "6d7e4643",
   "metadata": {},
   "outputs": [],
   "source": [
    "TL = WordNetLemmatizer()\n",
    "corpus = []\n",
    "for i in range(0,4000):\n",
    "    line = re.sub('[^a-zA-Z]',' ',df['News'][i]) #[char for char in text if char not in string.punctuation] \n",
    "    line = line.lower()\n",
    "    line = line.split()\n",
    "    line = [TL.lemmatize(word) for word in line if not word in set(stopwords.words('english'))]\n",
    "    line = ' '.join(line)\n",
    "    corpus.append(line)"
   ]
  },
  {
   "cell_type": "code",
   "execution_count": 6,
   "id": "892c71dc",
   "metadata": {},
   "outputs": [],
   "source": [
    "from sklearn.feature_extraction.text import CountVectorizer\n",
    "from sklearn.feature_extraction.text import TfidfVectorizer"
   ]
  },
  {
   "cell_type": "code",
   "execution_count": 8,
   "id": "d3d233a1",
   "metadata": {},
   "outputs": [],
   "source": [
    "cv = CountVectorizer(binary=True)\n",
    "x=cv.fit(corpus)\n",
    "y = df['class'].values\n",
    "#print([w for w in sorted(cv.vocabulary_.keys())])\n",
    "feature = pd.DataFrame(cv.transform(corpus).toarray(),columns=cv.vocabulary_.keys())"
   ]
  },
  {
   "cell_type": "code",
   "execution_count": 36,
   "id": "f44d005d",
   "metadata": {},
   "outputs": [],
   "source": [
    "cv2 = CountVectorizer()\n",
    "x2=cv2.fit(corpus)\n",
    "feature2 = pd.DataFrame(cv2.transform(corpus).toarray(),columns=cv2.vocabulary_.keys())"
   ]
  },
  {
   "cell_type": "code",
   "execution_count": 39,
   "id": "aa3654e5",
   "metadata": {},
   "outputs": [],
   "source": [
    "TV = TfidfVectorizer()\n",
    "x3= TV.fit(corpus)\n",
    "feature3 =pd.DataFrame(TV.transform(corpus).toarray(),columns=TV.vocabulary_.keys())"
   ]
  },
  {
   "cell_type": "code",
   "execution_count": 44,
   "id": "690afff1",
   "metadata": {},
   "outputs": [
    {
     "name": "stdout",
     "output_type": "stream",
     "text": [
      "(3200, 32459)\n",
      "(800, 32459)\n"
     ]
    }
   ],
   "source": [
    "from sklearn.model_selection import train_test_split\n",
    "from sklearn.metrics import accuracy_score\n",
    "from sklearn.metrics import confusion_matrix\n",
    "x_train , x_test , y_train , y_test = train_test_split(feature,df['class'],test_size=0.2)\n",
    "print(x_train.shape)\n",
    "print(x_test.shape)"
   ]
  },
  {
   "cell_type": "code",
   "execution_count": 46,
   "id": "b242c965",
   "metadata": {},
   "outputs": [
    {
     "name": "stdout",
     "output_type": "stream",
     "text": [
      "98.625\n",
      "[[393   7]\n",
      " [  4 396]]\n"
     ]
    }
   ],
   "source": [
    "from sklearn.naive_bayes import MultinomialNB\n",
    "# CountVectorizer(binary=True)\n",
    "model = MultinomialNB()\n",
    "model.fit(x_train,y_train)\n",
    "predict = model.predict(x_test)\n",
    "print(accuracy_score(y_test,predict)*100)\n",
    "print(confusion_matrix(y_test,predict))"
   ]
  },
  {
   "cell_type": "code",
   "execution_count": 47,
   "id": "9ff94a26",
   "metadata": {},
   "outputs": [
    {
     "name": "stdout",
     "output_type": "stream",
     "text": [
      "(3200, 32459)\n",
      "(800, 32459)\n",
      "97.5\n",
      "[[378  13]\n",
      " [  7 402]]\n"
     ]
    }
   ],
   "source": [
    "x_train2 , x_test2 , y_train2 , y_test2 = train_test_split(feature2,df['class'],test_size=0.2)\n",
    "print(x_train2.shape)\n",
    "print(x_test2.shape)\n",
    "model2 = MultinomialNB()\n",
    "model2.fit(x_train2,y_train2)\n",
    "predict2 = model2.predict(x_test2)\n",
    "print(accuracy_score(y_test2,predict2)*100)\n",
    "print(confusion_matrix(y_test2,predict2))"
   ]
  },
  {
   "cell_type": "code",
   "execution_count": 48,
   "id": "f49981e2",
   "metadata": {},
   "outputs": [
    {
     "name": "stdout",
     "output_type": "stream",
     "text": [
      "(3200, 32459)\n",
      "(800, 32459)\n",
      "96.125\n",
      "[[368  15]\n",
      " [ 16 401]]\n"
     ]
    }
   ],
   "source": [
    "#TfidfVectorizer()\n",
    "x_train3 , x_test3 , y_train3 , y_test3 = train_test_split(feature3,df['class'],test_size=0.2)\n",
    "print(x_train3.shape)\n",
    "print(x_test3.shape)\n",
    "model3 = MultinomialNB()\n",
    "model3.fit(x_train3,y_train3)\n",
    "predict3 = model3.predict(x_test3)\n",
    "print(accuracy_score(y_test3,predict3)*100)\n",
    "print(confusion_matrix(y_test3,predict3))"
   ]
  },
  {
   "cell_type": "code",
   "execution_count": null,
   "id": "b2fe3aca",
   "metadata": {},
   "outputs": [],
   "source": []
  },
  {
   "cell_type": "code",
   "execution_count": null,
   "id": "c307e436",
   "metadata": {},
   "outputs": [],
   "source": []
  },
  {
   "cell_type": "code",
   "execution_count": null,
   "metadata": {},
   "outputs": [],
   "source": []
  },
  {
   "cell_type": "code",
   "execution_count": null,
   "metadata": {},
   "outputs": [],
   "source": []
  },
  {
   "cell_type": "code",
   "execution_count": null,
   "id": "356f30eb",
   "metadata": {},
   "outputs": [],
   "source": []
  },
  {
   "cell_type": "code",
   "execution_count": null,
   "id": "38cd4e9a",
   "metadata": {},
   "outputs": [],
   "source": []
  }
 ],
 "metadata": {
  "kernelspec": {
   "display_name": "Python 3.11.0 64-bit",
   "language": "python",
   "name": "python3"
  },
  "language_info": {
   "codemirror_mode": {
    "name": "ipython",
    "version": 3
   },
   "file_extension": ".py",
   "mimetype": "text/x-python",
   "name": "python",
   "nbconvert_exporter": "python",
   "pygments_lexer": "ipython3",
   "version": "3.11.0"
  },
  "vscode": {
   "interpreter": {
    "hash": "8333efcbcdc402bf37c2a0a8c5f30b0913dc1d87e0b49524f34886ae3691f9da"
   }
  }
 },
 "nbformat": 4,
 "nbformat_minor": 5
}
